{
  "nbformat": 4,
  "nbformat_minor": 0,
  "metadata": {
    "colab": {
      "private_outputs": true,
      "provenance": [],
      "authorship_tag": "ABX9TyNepv/uYW/wPhZRJFBah409",
      "include_colab_link": true
    },
    "kernelspec": {
      "name": "python3",
      "display_name": "Python 3"
    },
    "language_info": {
      "name": "python"
    }
  },
  "cells": [
    {
      "cell_type": "markdown",
      "metadata": {
        "id": "view-in-github",
        "colab_type": "text"
      },
      "source": [
        "<a href=\"https://colab.research.google.com/github/Sameer103/InterpretX/blob/main/Exc.ipynb\" target=\"_parent\"><img src=\"https://colab.research.google.com/assets/colab-badge.svg\" alt=\"Open In Colab\"/></a>"
      ]
    },
    {
      "cell_type": "markdown",
      "source": [
        "# New Section"
      ],
      "metadata": {
        "id": "iStP0M-dZgGY"
      }
    },
    {
      "cell_type": "code",
      "source": [
        "import pandas as pd\n",
        "import io\n",
        "import numpy as np\n",
        "import seaborn as sns\n",
        "import matplotlib.pyplot as plt\n",
        "import random"
      ],
      "metadata": {
        "id": "Efjv4ocLaLAI"
      },
      "execution_count": null,
      "outputs": []
    },
    {
      "cell_type": "code",
      "execution_count": null,
      "metadata": {
        "id": "JyFYNCYTZcL_"
      },
      "outputs": [],
      "source": [
        "from google.colab import files\n",
        "uploaded=files.upload()"
      ]
    },
    {
      "cell_type": "code",
      "source": [
        "df= pd.read_csv(io.BytesIO(uploaded[\"Data Analyst Exercise - May 2024 - Dataset.csv\"]))\n",
        "df.head()"
      ],
      "metadata": {
        "id": "sjfibqJ8ZvrE"
      },
      "execution_count": null,
      "outputs": []
    },
    {
      "cell_type": "code",
      "source": [
        "df.info()"
      ],
      "metadata": {
        "id": "SILUcc0EajUJ"
      },
      "execution_count": null,
      "outputs": []
    },
    {
      "cell_type": "markdown",
      "source": [
        "How many vehicles were inspected by date"
      ],
      "metadata": {
        "id": "Kuc-bn3odNbV"
      }
    },
    {
      "cell_type": "code",
      "source": [
        "len(df[\"Vehicle ID\"].unique())"
      ],
      "metadata": {
        "id": "cjSPvpBcayfC"
      },
      "execution_count": null,
      "outputs": []
    },
    {
      "cell_type": "markdown",
      "source": [
        "Which parts were most frequently detected?"
      ],
      "metadata": {
        "id": "jxzCFYjDdPXF"
      }
    },
    {
      "cell_type": "code",
      "source": [
        "part_counts = df['Part detected'].value_counts()"
      ],
      "metadata": {
        "id": "po6Cl_QcdS6u"
      },
      "execution_count": null,
      "outputs": []
    },
    {
      "cell_type": "code",
      "source": [
        "part_counts.idxmax()"
      ],
      "metadata": {
        "id": "trkhH39Sd_Hj"
      },
      "execution_count": null,
      "outputs": []
    },
    {
      "cell_type": "markdown",
      "source": [
        "Which parts are least detected?"
      ],
      "metadata": {
        "id": "3SlV7wv6u3xt"
      }
    },
    {
      "cell_type": "code",
      "source": [
        "part_counts.idxmin()"
      ],
      "metadata": {
        "id": "IJr6b8Lwutd8"
      },
      "execution_count": null,
      "outputs": []
    },
    {
      "cell_type": "markdown",
      "source": [
        "Which vehicles have been inspected thoroughly (max number of parts detected) and which ones have poor coverage?"
      ],
      "metadata": {
        "id": "AzDg7MjPu5fO"
      }
    },
    {
      "cell_type": "code",
      "source": [
        "df.groupby('Vehicle ID')['Part detected'].count()\n",
        "vehicle_part_counts = df.groupby('Vehicle ID')['Part detected'].count()"
      ],
      "metadata": {
        "id": "FLr88bmEu441"
      },
      "execution_count": null,
      "outputs": []
    },
    {
      "cell_type": "code",
      "source": [
        "vehicle_part_counts.idxmax()\n",
        "\n"
      ],
      "metadata": {
        "id": "jbkRPv1Nvb0y"
      },
      "execution_count": null,
      "outputs": []
    },
    {
      "cell_type": "code",
      "source": [
        "vehicle_part_counts.idxmin()"
      ],
      "metadata": {
        "id": "LLOfaHuVvh-j"
      },
      "execution_count": null,
      "outputs": []
    },
    {
      "cell_type": "markdown",
      "source": [
        "Assume - if a part is detected at least 3 times in an inspection, then it has good coverage. So which parts have poor coverage? And which parts have good coverage?"
      ],
      "metadata": {
        "id": "uGkIgGOFvuor"
      }
    },
    {
      "cell_type": "code",
      "source": [
        "part_counts[part_counts >= 3].index.tolist()"
      ],
      "metadata": {
        "id": "lid0WDHsv5NN"
      },
      "execution_count": null,
      "outputs": []
    },
    {
      "cell_type": "code",
      "source": [
        "part_counts[part_counts < 3].index.tolist()"
      ],
      "metadata": {
        "id": "I0AE9ii3v83V"
      },
      "execution_count": null,
      "outputs": []
    },
    {
      "cell_type": "markdown",
      "source": [
        "Optional - if we select any one specific vehicle (Vehicle ID), then visually represent (e.g. in a heatmap), which parts have been detected/inspected well and which parts have not been detected well"
      ],
      "metadata": {
        "id": "jK4_TTMw_sY0"
      }
    },
    {
      "cell_type": "code",
      "source": [
        "# Filter the DataFrame for a specific vehicle ID (e.g., 'XAB68801')\n",
        "specific_vehicle_id = 'ABE67897'\n",
        "specific_vehicle_data = df[df['Vehicle ID'] == specific_vehicle_id]\n",
        "\n"
      ],
      "metadata": {
        "id": "gloA8GtA_qub"
      },
      "execution_count": null,
      "outputs": []
    },
    {
      "cell_type": "code",
      "source": [
        "df['Vehicle ID'].random(10)"
      ],
      "metadata": {
        "id": "dZbkbLwKAMcp"
      },
      "execution_count": null,
      "outputs": []
    },
    {
      "cell_type": "code",
      "source": [
        "# Count the frequency of each part detected for the specific vehicle\n",
        "part_counts = specific_vehicle_data['Part detected'].value_counts()\n",
        "\n",
        "# Create a DataFrame for visualization\n",
        "heatmap_data = pd.DataFrame(index=part_counts.index, columns=['Detected Well'])\n",
        "\n",
        "# Assign values based on detection frequency criteria\n",
        "heatmap_data['Detected Well'] = part_counts.apply(lambda x: 'Good Coverage' if x >= 3 else 'Poor Coverage')\n",
        "\n",
        "# Create a heatmap\n",
        "plt.figure(figsize=(10, 6))\n",
        "sns.heatmap(heatmap_data['Detected Well'].apply(lambda x: 1 if x == 'Good Coverage' else 0).to_frame().T, cmap=['red', 'green'], cbar=False, annot=True, fmt='d')\n",
        "plt.title(f'Parts Detection for Vehicle ID: {specific_vehicle_id}')\n",
        "plt.xlabel('Part Detected')\n",
        "plt.ylabel('Detection Status')\n",
        "plt.show()"
      ],
      "metadata": {
        "id": "-hxDNH-j_88n"
      },
      "execution_count": null,
      "outputs": []
    },
    {
      "cell_type": "code",
      "source": [
        "vehicle_inspection_counts = df['Vehicle ID'].value_counts()\n",
        "\n",
        "# Get the vehicle with the maximum number of inspections\n",
        "most_inspected_vehicle = vehicle_inspection_counts.idxmax()\n",
        "\n",
        "# Get the vehicle with the minimum number of inspections\n",
        "least_inspected_vehicle = vehicle_inspection_counts.idxmin()\n",
        "\n",
        "print(\"Vehicle inspected most number of times:\", most_inspected_vehicle)\n",
        "print(\"Vehicle inspected least number of times:\", least_inspected_vehicle)"
      ],
      "metadata": {
        "id": "LLBNJYkPA-W_"
      },
      "execution_count": null,
      "outputs": []
    }
  ]
}